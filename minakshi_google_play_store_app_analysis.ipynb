{
  "nbformat": 4,
  "nbformat_minor": 0,
  "metadata": {
    "colab": {
      "private_outputs": true,
      "provenance": [],
      "collapsed_sections": [
        "t6dVpIINYklI",
        "ijmpgYnKYklI",
        "-JiQyfWJYklI",
        "fge-S5ZAYoAp",
        "85gYPyotYoAp",
        "RoGjAbkUYoAp",
        "QHF8YVU7Yuh3",
        "GwzvFGzlYuh3",
        "qYpmQ266Yuh3",
        "bbFf2-_FphqN",
        "_ouA3fa0phqN",
        "Seke61FWphqN",
        "t27r6nlMphqO",
        "r2jJGEOYphqO",
        "b0JNsNcRphqO",
        "jj7wYXLtphqO",
        "eZrbJ2SmphqO",
        "rFu4xreNphqO",
        "gCFgpxoyphqP",
        "OVtJsKN_phqQ",
        "lssrdh5qphqQ",
        "1M8mcRywphqQ",
        "tgIPom80phqQ",
        "JMzcOPDDphqR",
        "8zGJKyg5p1ck",
        "PVzmfK_Ep1ck",
        "ylSl6qgtp1ck",
        "ZWILFDl5p1ck",
        "EXh0U9oCveiU",
        "22aHeOlLveiV",
        "gCX9965dhzqZ",
        "gIfDvo9L0UH2"
      ],
      "include_colab_link": true
    },
    "kernelspec": {
      "name": "python3",
      "display_name": "Python 3"
    },
    "language_info": {
      "name": "python"
    }
  },
  "cells": [
    {
      "cell_type": "markdown",
      "metadata": {
        "id": "view-in-github",
        "colab_type": "text"
      },
      "source": [
        "<a href=\"https://colab.research.google.com/github/MinakshiLute/Our-play-store-analysis-project-KMNGY/blob/main/minakshi_google_play_store_app_analysis.ipynb\" target=\"_parent\"><img src=\"https://colab.research.google.com/assets/colab-badge.svg\" alt=\"Open In Colab\"/></a>"
      ]
    },
    {
      "cell_type": "markdown",
      "source": [
        "# **Project Name**    - Play Store App Review Analysis\n",
        "\n"
      ],
      "metadata": {
        "id": "vncDsAP0Gaoa"
      }
    },
    {
      "cell_type": "markdown",
      "source": [
        "##### **Project Type    - EDA**\n",
        "##### **Contribution    - Team**\n",
        "##### **Team Member 1   -Kishor Nikam** \n",
        "##### **Team Member 2   - Nitikesh Wagh**\n",
        "##### **Team Member 3   - Yaminee Swami**\n",
        "##### **Team Member 4   - Rohini Gawande**\n",
        "##### **Team Member 5   - Minakshi Lute**"
      ],
      "metadata": {
        "id": "beRrZCGUAJYm"
      }
    },
    {
      "cell_type": "markdown",
      "source": [
        "# **Project Summary -**"
      ],
      "metadata": {
        "id": "FJNUwmbgGyua"
      }
    },
    {
      "cell_type": "markdown",
      "source": [
        "\n",
        "\n",
        "```\n",
        "# This is formatted as code\n",
        "```\n",
        "\n",
        "In Google Play App Review Analysis Project, we are goining to analyse two data sets 1-Play Store Data.csv 2-User Reviews.csv. Where we will take a look on what is respose of people on every app   "
      ],
      "metadata": {
        "id": "F6v_1wHtG2nS"
      }
    },
    {
      "cell_type": "markdown",
      "source": [
        "# **GitHub Link -**"
      ],
      "metadata": {
        "id": "w6K7xa23Elo4"
      }
    },
    {
      "cell_type": "markdown",
      "source": [
        "Provide your GitHub Link here.\n",
        "\n",
        "---\n",
        "\n"
      ],
      "metadata": {
        "id": "h1o69JH3Eqqn"
      }
    },
    {
      "cell_type": "markdown",
      "source": [
        "# **Problem Statement**\n"
      ],
      "metadata": {
        "id": "yQaldy8SH6Dl"
      }
    },
    {
      "cell_type": "markdown",
      "source": [
        "**The Play store apps data has enormous potential to drive app-making businesses to sucess. Actionable insights can be drawn for developers to work on and capture the android market. Each app(row) has values for category, rating,size and more. Another Dataset contains customer reviews of the android apps. Explore and analysis the data to discover key factors responsible for app engagement and sucess **"
      ],
      "metadata": {
        "id": "DpeJGUA3kjGy"
      }
    },
    {
      "cell_type": "markdown",
      "source": [
        "#### **Define Your Business Objective?**"
      ],
      "metadata": {
        "id": "PH-0ReGfmX4f"
      }
    },
    {
      "cell_type": "markdown",
      "source": [
        "Answer Here."
      ],
      "metadata": {
        "id": "PhDvGCAqmjP1"
      }
    },
    {
      "cell_type": "markdown",
      "source": [
        "# **General Guidelines** : -  "
      ],
      "metadata": {
        "id": "mDgbUHAGgjLW"
      }
    },
    {
      "cell_type": "markdown",
      "source": [
        "1.   Well-structured, formatted, and commented code is required. \n",
        "2.   Exception Handling, Production Grade Code & Deployment Ready Code will be a plus. Those students will be awarded some additional credits. \n",
        "     \n",
        "     The additional credits will have advantages over other students during Star Student selection.\n",
        "       \n",
        "             [ Note: - Deployment Ready Code is defined as, the whole .ipynb notebook should be executable in one go\n",
        "                       without a single error logged. ]\n",
        "\n",
        "3.   Each and every logic should have proper comments.\n",
        "4. You may add as many number of charts you want. Make Sure for each and every chart the following format should be answered.\n",
        "        \n",
        "\n",
        "```\n",
        "# Chart visualization code\n",
        "```\n",
        "            \n",
        "\n",
        "*   Why did you pick the specific chart?\n",
        "*   What is/are the insight(s) found from the chart?\n",
        "* Will the gained insights help creating a positive business impact? \n",
        "Are there any insights that lead to negative growth? Justify with specific reason.\n",
        "\n",
        "5. You have to create at least 20 logical & meaningful charts having important insights.\n",
        "\n",
        "\n",
        "[ Hints : - Do the Vizualization in  a structured way while following \"UBM\" Rule. \n",
        "\n",
        "U - Univariate Analysis,\n",
        "\n",
        "B - Bivariate Analysis (Numerical - Categorical, Numerical - Numerical, Categorical - Categorical)\n",
        "\n",
        "M - Multivariate Analysis\n",
        " ]\n",
        "\n",
        "\n",
        "\n"
      ],
      "metadata": {
        "id": "ZrxVaUj-hHfC"
      }
    },
    {
      "cell_type": "markdown",
      "source": [
        "# ***Let's Begin !***"
      ],
      "metadata": {
        "id": "O_i_v8NEhb9l"
      }
    },
    {
      "cell_type": "markdown",
      "source": [
        "## ***1. Know Your Data***"
      ],
      "metadata": {
        "id": "HhfV-JJviCcP"
      }
    },
    {
      "cell_type": "markdown",
      "source": [
        "### Import Libraries"
      ],
      "metadata": {
        "id": "Y3lxredqlCYt"
      }
    },
    {
      "cell_type": "code",
      "source": [
        "# Import Libraries\n",
        "import pandas as pd\n",
        "import numpy as np\n",
        "import matplotlib.pyplot as plt\n",
        "import seaborn as sns"
      ],
      "metadata": {
        "id": "M8Vqi-pPk-HR"
      },
      "execution_count": null,
      "outputs": []
    },
    {
      "cell_type": "code",
      "source": [
        "from google.colab import drive\n",
        "drive.mount('/content/drive')"
      ],
      "metadata": {
        "id": "LRn3TUZT3wcH"
      },
      "execution_count": null,
      "outputs": []
    },
    {
      "cell_type": "code",
      "source": [
        "file_path1 =\"/content/Play Store Data.csv\"   \n",
        "play_data=pd.read_csv(file_path1)\n",
        "\n"
      ],
      "metadata": {
        "id": "PrlubAeP0XaS"
      },
      "execution_count": null,
      "outputs": []
    },
    {
      "cell_type": "markdown",
      "source": [
        "### Dataset Loading"
      ],
      "metadata": {
        "id": "3RnN4peoiCZX"
      }
    },
    {
      "cell_type": "code",
      "source": [
        "# Load Dataset\n",
        "print(\"Play Store Data.csv\",play_data)\n"
      ],
      "metadata": {
        "id": "4CkvbW_SlZ_R"
      },
      "execution_count": null,
      "outputs": []
    },
    {
      "cell_type": "markdown",
      "source": [
        "### Dataset First View"
      ],
      "metadata": {
        "id": "x71ZqKXriCWQ"
      }
    },
    {
      "cell_type": "code",
      "source": [
        "# Dataset First Look of Play Store Data.csv\n",
        "play_data.head(10)"
      ],
      "metadata": {
        "id": "LWNFOSvLl09H"
      },
      "execution_count": null,
      "outputs": []
    },
    {
      "cell_type": "markdown",
      "source": [
        "### Dataset Rows & Columns count"
      ],
      "metadata": {
        "id": "7hBIi_osiCS2"
      }
    },
    {
      "cell_type": "code",
      "source": [
        "# Dataset Rows & Columns count for Play Store Data.csv\n",
        "rows = len(play_data.axes[0])\n",
        "print(rows)\n",
        "column = len(play_data.axes[1])\n",
        "print(column)"
      ],
      "metadata": {
        "id": "Kllu7SJgmLij"
      },
      "execution_count": null,
      "outputs": []
    },
    {
      "cell_type": "markdown",
      "source": [
        "### Dataset Information"
      ],
      "metadata": {
        "id": "JlHwYmJAmNHm"
      }
    },
    {
      "cell_type": "code",
      "source": [
        "# Dataset Info for Play Store Data.csv\n",
        "play_data.info()"
      ],
      "metadata": {
        "id": "e9hRXRi6meOf"
      },
      "execution_count": null,
      "outputs": []
    },
    {
      "cell_type": "markdown",
      "source": [
        "#### Duplicate Values"
      ],
      "metadata": {
        "id": "35m5QtbWiB9F"
      }
    },
    {
      "cell_type": "code",
      "source": [
        "# Dataset Duplicate Value Count\n",
        "df2 = play_data.pivot_table(index = ['Category'], aggfunc ='size')\n",
        "print(df2)"
      ],
      "metadata": {
        "id": "1sLdpKYkmox0"
      },
      "execution_count": null,
      "outputs": []
    },
    {
      "cell_type": "markdown",
      "source": [
        "#### Missing Values/Null Values"
      ],
      "metadata": {
        "id": "PoPl-ycgm1ru"
      }
    },
    {
      "cell_type": "code",
      "source": [
        "# Missing Values/Null Values Count\n",
        "play_data.isnull()"
      ],
      "metadata": {
        "id": "GgHWkxvamxVg"
      },
      "execution_count": null,
      "outputs": []
    },
    {
      "cell_type": "code",
      "source": [
        "# Visualizing the missing values\n",
        "import missingno as msno\n",
        "msno.heatmap(play_data)"
      ],
      "metadata": {
        "id": "3q5wnI3om9sJ"
      },
      "execution_count": null,
      "outputs": []
    },
    {
      "cell_type": "markdown",
      "source": [
        "### What did you know about your dataset?"
      ],
      "metadata": {
        "id": "H0kj-8xxnORC"
      }
    },
    {
      "cell_type": "markdown",
      "source": [
        "We are having to datasets 1-Play Store Data.csv where we are having information about which App, what type of Apps where downloaded,no the basis of customer satisfaction their rating and reviews, how many memory they required,Gneres,they are free or payable.\n",
        "\n",
        "2- User review.csv in this dataset we are having sentiments and there opinion."
      ],
      "metadata": {
        "id": "gfoNAAC-nUe_"
      }
    },
    {
      "cell_type": "markdown",
      "source": [
        "## ***2. Understanding Your Variables***"
      ],
      "metadata": {
        "id": "nA9Y7ga8ng1Z"
      }
    },
    {
      "cell_type": "code",
      "source": [
        "# Dataset Columns\n",
        "play_data.columns"
      ],
      "metadata": {
        "id": "j7xfkqrt5Ag5"
      },
      "execution_count": null,
      "outputs": []
    },
    {
      "cell_type": "code",
      "source": [
        "# Dataset Describe\n",
        "play_data.describe()"
      ],
      "metadata": {
        "id": "DnOaZdaE5Q5t"
      },
      "execution_count": null,
      "outputs": []
    },
    {
      "cell_type": "markdown",
      "source": [
        "### Variables Description "
      ],
      "metadata": {
        "id": "PBTbrJXOngz2"
      }
    },
    {
      "cell_type": "markdown",
      "source": [
        "It shows the statastical summary of the play store.\n",
        "\n",
        ".count : the number of no-null values 9367.000000\n",
        "\n",
        ".mean : the average value of column is 4.193338\n",
        "\n",
        ".std : the standard deviation of column is 0.537431\n",
        "\n",
        ".min : the minimum values in the column is 1.000000\n",
        "\n",
        "25% : the first quartile value of column is 4.000000\n",
        "\n",
        "50% : the median value of column is 4.300000\n",
        "\n",
        "75% : the third quartile value of column is 4.500000\n",
        "\n",
        "Max : the maximum value in the column is 19.000000"
      ],
      "metadata": {
        "id": "aJV4KIxSnxay"
      }
    },
    {
      "cell_type": "markdown",
      "source": [
        "### Check Unique Values for each variable."
      ],
      "metadata": {
        "id": "u3PMJOP6ngxN"
      }
    },
    {
      "cell_type": "code",
      "source": [
        "# Check Unique Values for each variable.\n",
        "for i in play_data.columns.tolist():\n",
        "  print(\"Unique Value in\",i,\"is\",play_data[i].nunique())"
      ],
      "metadata": {
        "id": "zms12Yq5n-jE"
      },
      "execution_count": null,
      "outputs": []
    },
    {
      "cell_type": "markdown",
      "source": [
        "## 3. ***Data Wrangling***"
      ],
      "metadata": {
        "id": "dauF4eBmngu3"
      }
    },
    {
      "cell_type": "markdown",
      "source": [
        "# Dataset 1 : Play Store Data.csv"
      ],
      "metadata": {
        "id": "gMER249ybbU6"
      }
    },
    {
      "cell_type": "markdown",
      "source": [
        "### Data Wrangling Code"
      ],
      "metadata": {
        "id": "bKJF3rekwFvQ"
      }
    },
    {
      "cell_type": "code",
      "source": [
        "# Write your code to make your dataset analysis ready.\n",
        "play_data_new = pd.DataFrame(index = play_data.columns)\n",
        "play_data_new[\"DataType\"] = play_data.dtypes\n",
        "play_data_new[\"notnull\"] = play_data.count()\n",
        "play_data_new[\"null\"] = play_data.isnull().sum()\n",
        "play_data_new"
      ],
      "metadata": {
        "id": "wk-9a2fpoLcV"
      },
      "execution_count": null,
      "outputs": []
    },
    {
      "cell_type": "code",
      "source": [
        "# as we see rating has more null values so firstly cleaning those values\n",
        "play_data.boxplot()"
      ],
      "metadata": {
        "id": "BFcZEjpzWdUN"
      },
      "execution_count": null,
      "outputs": []
    },
    {
      "cell_type": "markdown",
      "source": [
        "App Rating is 19 thats why we will drop it."
      ],
      "metadata": {
        "id": "_lbAby8vYa-1"
      }
    },
    {
      "cell_type": "code",
      "source": [
        "play_data[(play_data['Rating'] >5)]"
      ],
      "metadata": {
        "id": "hNQuOkrZjOh9"
      },
      "execution_count": null,
      "outputs": []
    },
    {
      "cell_type": "code",
      "source": [
        "play_data.boxplot()"
      ],
      "metadata": {
        "id": "wmV5NErLjbRo"
      },
      "execution_count": null,
      "outputs": []
    },
    {
      "cell_type": "code",
      "source": [
        "play_data.drop([10472], axis=0, inplace = False)\n"
      ],
      "metadata": {
        "id": "gOIIsXrzYqTb"
      },
      "execution_count": null,
      "outputs": []
    },
    {
      "cell_type": "code",
      "source": [
        "rating_mean = play_data['Rating'].mean()\n",
        "print('mean : ',rating_mean)\n",
        "rating_median = play_data['Rating'].median()\n",
        "print(\"median : \",rating_mean)"
      ],
      "metadata": {
        "id": "xGYvYxrWgpB_"
      },
      "execution_count": null,
      "outputs": []
    },
    {
      "cell_type": "code",
      "source": [
        "play_data['Rating'].fillna(value = rating_median,inplace = False)"
      ],
      "metadata": {
        "id": "dPFsIWvLlf72"
      },
      "execution_count": null,
      "outputs": []
    },
    {
      "cell_type": "code",
      "source": [
        "print(play_data.isnull().sum())"
      ],
      "metadata": {
        "id": "ex6tu16_mIBf"
      },
      "execution_count": null,
      "outputs": []
    },
    {
      "cell_type": "markdown",
      "source": [
        "still we are having null value in Type and in Android Ver"
      ],
      "metadata": {
        "id": "l0eXTuiommC6"
      }
    },
    {
      "cell_type": "code",
      "source": [
        "play_data[(play_data['Type'].isnull())]"
      ],
      "metadata": {
        "id": "wMNNPq3Dm4Ik"
      },
      "execution_count": null,
      "outputs": []
    },
    {
      "cell_type": "code",
      "source": [
        "play_data['Type'].value_counts()"
      ],
      "metadata": {
        "id": "OM3lAGQtnLe6"
      },
      "execution_count": null,
      "outputs": []
    },
    {
      "cell_type": "code",
      "source": [
        "play_data.loc[9148,'Type']='Free'"
      ],
      "metadata": {
        "id": "EBWZSonHoTT2"
      },
      "execution_count": null,
      "outputs": []
    },
    {
      "cell_type": "code",
      "source": [
        "play_data[(play_data['Type'].isnull())]"
      ],
      "metadata": {
        "id": "Ajjr0a9HpYnU"
      },
      "execution_count": null,
      "outputs": []
    },
    {
      "cell_type": "code",
      "source": [
        "play_data[(play_data['Current Ver'].isnull())]"
      ],
      "metadata": {
        "id": "PvbIsljLpqzi"
      },
      "execution_count": null,
      "outputs": []
    },
    {
      "cell_type": "code",
      "source": [
        "play_data.drop([15,1553,6322,6803,7333,7407,7730,10342], axis=0, inplace =False)"
      ],
      "metadata": {
        "id": "34h4HQ_nqcoJ"
      },
      "execution_count": null,
      "outputs": []
    },
    {
      "cell_type": "code",
      "source": [
        "play_data[(play_data['Current Ver'].isnull())]"
      ],
      "metadata": {
        "id": "L9lza4JnrIZ-"
      },
      "execution_count": null,
      "outputs": []
    },
    {
      "cell_type": "code",
      "source": [
        "play_data[(play_data['Android Ver'].isnull())]"
      ],
      "metadata": {
        "id": "2rr8XI4QraTG"
      },
      "execution_count": null,
      "outputs": []
    },
    {
      "cell_type": "code",
      "source": [
        "play_data.drop([4453,4490], axis=0, inplace =False)"
      ],
      "metadata": {
        "id": "qBkkRzO7rk1O"
      },
      "execution_count": null,
      "outputs": []
    },
    {
      "cell_type": "code",
      "source": [
        "play_data[(play_data['Android Ver'].isnull())]"
      ],
      "metadata": {
        "id": "7HLURjU5r_vh"
      },
      "execution_count": null,
      "outputs": []
    },
    {
      "cell_type": "markdown",
      "source": [
        "**Time to handle all data types for every column**"
      ],
      "metadata": {
        "id": "W-gBQI9W_sGV"
      }
    },
    {
      "cell_type": "code",
      "source": [
        "play_data[\"Size\"]"
      ],
      "metadata": {
        "id": "VHlJkclq_46T"
      },
      "execution_count": null,
      "outputs": []
    },
    {
      "cell_type": "markdown",
      "source": [
        "**M means MB\n",
        "\n",
        "K means KB\n",
        "\n",
        "so we are going to convert it into single unit**"
      ],
      "metadata": {
        "id": "BgpT4poWIpiT"
      }
    },
    {
      "cell_type": "code",
      "source": [
        "play_data['Size'].value_counts()"
      ],
      "metadata": {
        "id": "yZirA9tCJ6wP"
      },
      "execution_count": null,
      "outputs": []
    },
    {
      "cell_type": "code",
      "source": [
        "play_data['Price'].value_counts()"
      ],
      "metadata": {
        "id": "t4ePm8nvIoT6"
      },
      "execution_count": null,
      "outputs": []
    },
    {
      "cell_type": "code",
      "source": [
        "play_data['Installs'].value_counts()"
      ],
      "metadata": {
        "id": "ZEhlGyskKHqU"
      },
      "execution_count": null,
      "outputs": []
    },
    {
      "cell_type": "code",
      "source": [
        "#remove \",\" and \"+\" from Installs\n",
        "def remove_from_Installs(b):\n",
        "  if type(b) == str:\n",
        "    b = b.replace(\"$\",\"\")\n",
        "  return b  \n",
        "play_data['Price'] = play_data['Price'].apply(remove_from_Installs) "
      ],
      "metadata": {
        "id": "I9K97JZgKXZq"
      },
      "execution_count": null,
      "outputs": []
    },
    {
      "cell_type": "code",
      "source": [
        "# remove $ from price\n",
        "def remove_from_price(b):\n",
        "  if type(b) == str and '$' in b:\n",
        "    b = b.replace(\",\",\"\").replace(\"+\",\"\")\n",
        "  return b  \n",
        "play_data['Installs'] = play_data['Installs'].apply(remove_from_price) "
      ],
      "metadata": {
        "id": "fkl4BvzmNYrk"
      },
      "execution_count": null,
      "outputs": []
    },
    {
      "cell_type": "code",
      "source": [
        "#now converting 'Reviews to numeric in play_data\n",
        "\n",
        "play_data['Reviews'] = play_data['Reviews'].astype(float)\n",
        "def clean_size(x):\n",
        "  if 'Varies with device' in str(x):\n",
        "    return np.nan\n",
        "  elif 'k' in str(x):\n",
        "    return float(str(x).replace('k',''))/1024 \n",
        "  else:\n",
        "    return float(str(x).replace('M',''))\n",
        "\n",
        "play_data['Size']=play_data['Size'].apply(clean_size) \n",
        "\n",
        "play_data['Installs']=play_data['Installs'].replace('[^\\d]','', regex=True).astype(float) \n",
        "\n",
        "play_data['Price']=play_data['Price'].replace('[^\\d\\.]','',regex=True).astype(float)\n",
        "\n",
        "play_data.info()"
      ],
      "metadata": {
        "id": "hfBJLN4MQAE4"
      },
      "execution_count": null,
      "outputs": []
    },
    {
      "cell_type": "markdown",
      "source": [
        "**Time to remove all duplicate app**"
      ],
      "metadata": {
        "id": "T237yCV2U_lU"
      }
    },
    {
      "cell_type": "code",
      "source": [
        "play_data['App'].value_counts()"
      ],
      "metadata": {
        "id": "uBx7xX4nVGfa"
      },
      "execution_count": null,
      "outputs": []
    },
    {
      "cell_type": "code",
      "source": [
        "# finding duplicates in app\n",
        "play_data['App'].duplicated().sum()\n"
      ],
      "metadata": {
        "id": "qALeBd_AVm08"
      },
      "execution_count": null,
      "outputs": []
    },
    {
      "cell_type": "code",
      "source": [
        "#droping duplicates\n",
        "play_data.drop_duplicates(subset ='App' ,inplace = False )"
      ],
      "metadata": {
        "id": "9AMjj7zfWVNZ"
      },
      "execution_count": null,
      "outputs": []
    },
    {
      "cell_type": "code",
      "source": [
        "# check duplicates are remove or not\n",
        "play_data['App'].duplicated().sum()"
      ],
      "metadata": {
        "id": "FIX07kcCWhdv"
      },
      "execution_count": null,
      "outputs": []
    },
    {
      "cell_type": "markdown",
      "source": [
        "**Summary** \n",
        "\n",
        "*all duplicate value remove from dataset\n",
        "\n",
        "all null values remove from dataset\n",
        "\n",
        "all unwanted characters remove from dataset*"
      ],
      "metadata": {
        "id": "meD7pcitXDXI"
      }
    },
    {
      "cell_type": "markdown",
      "source": [
        "# Dataset 2: User Reviews.csv"
      ],
      "metadata": {
        "id": "sfYZO31rbUtf"
      }
    },
    {
      "cell_type": "code",
      "source": [
        "file_path2 = \"/content/User Reviews.csv\"\n",
        "user_data=pd.read_csv(file_path2)"
      ],
      "metadata": {
        "id": "Ah35F9Utb8_5"
      },
      "execution_count": null,
      "outputs": []
    },
    {
      "cell_type": "markdown",
      "source": [
        "# Dataset Loading"
      ],
      "metadata": {
        "id": "XYryqHN4c-4S"
      }
    },
    {
      "cell_type": "code",
      "source": [
        "# Load Dataset\n",
        "print(\"User Reviews.csv\",user_data)"
      ],
      "metadata": {
        "id": "FZsuV3Whcbxg"
      },
      "execution_count": null,
      "outputs": []
    },
    {
      "cell_type": "markdown",
      "source": [
        "# Dataset First View"
      ],
      "metadata": {
        "id": "JxHZ0CCNdC7i"
      }
    },
    {
      "cell_type": "code",
      "source": [
        "# Dataset First Look of User Reviews.csv\n",
        "user_data.head(10)"
      ],
      "metadata": {
        "id": "p__iALtDcgte"
      },
      "execution_count": null,
      "outputs": []
    },
    {
      "cell_type": "markdown",
      "source": [
        "# Dataset Rows & Columns count"
      ],
      "metadata": {
        "id": "0TGDRB8XdL3A"
      }
    },
    {
      "cell_type": "code",
      "source": [
        "# Dataset Rows & Columns count for User Review.csv\n",
        "rows = len(user_data.axes[0])\n",
        "print(rows)\n",
        "column = len(user_data.axes[1])\n",
        "print(column)"
      ],
      "metadata": {
        "id": "cAkU0Wl6cm63"
      },
      "execution_count": null,
      "outputs": []
    },
    {
      "cell_type": "markdown",
      "source": [
        "# Dataset Information"
      ],
      "metadata": {
        "id": "mmcvn3fzdSvu"
      }
    },
    {
      "cell_type": "code",
      "source": [
        "# Dataset Info for User Review.csv\n",
        "user_data.info()"
      ],
      "metadata": {
        "id": "I6OqHXUmcxJA"
      },
      "execution_count": null,
      "outputs": []
    },
    {
      "cell_type": "code",
      "source": [
        "# check the variables of user data\n",
        "user_data.columns"
      ],
      "metadata": {
        "id": "oje1HIAKd8CO"
      },
      "execution_count": null,
      "outputs": []
    },
    {
      "cell_type": "markdown",
      "source": [
        "# Data set has 5 columns\n",
        "\n",
        "App : Number of App\n",
        "\n",
        "Translated_Review : It contains all English Translation\n",
        "\n",
        "Sentiment : It give emotions like 'Positive' 'Negative' 'Neutral'\n",
        "\n",
        "Sentiment_Polarity : It gives polarity statement range(1, -1). 1 is positive polarity and -1 is negative polarity.\n",
        "\n",
        "Sentiment_Subjectivity : It will give opinion range(0,1).\n"
      ],
      "metadata": {
        "id": "UKxIf56DeRo4"
      }
    },
    {
      "cell_type": "code",
      "source": [
        "# info\n",
        "user_data.info()"
      ],
      "metadata": {
        "id": "bTflT6lgksmJ"
      },
      "execution_count": null,
      "outputs": []
    },
    {
      "cell_type": "code",
      "source": [
        "#Create new dataframe for new variable\n",
        "\n",
        "user_data_new = pd.DataFrame(index = user_data.columns)\n",
        "user_data_new[\"DataType\"] = user_data.dtypes\n",
        "user_data_new[\"notnull\"] = user_data.count()\n",
        "user_data_new[\"null\"] = user_data.isnull().sum()\n",
        "user_data_new"
      ],
      "metadata": {
        "id": "TXpYlxrNmfkd"
      },
      "execution_count": null,
      "outputs": []
    },
    {
      "cell_type": "code",
      "source": [
        "user_data[(user_data['Sentiment_Polarity'].isnull())]"
      ],
      "metadata": {
        "id": "8UfNiYJZo-Y7"
      },
      "execution_count": null,
      "outputs": []
    },
    {
      "cell_type": "code",
      "source": [
        "user_data['Sentiment_Polarity'].value_counts()"
      ],
      "metadata": {
        "id": "A7nW-c_dqqLV"
      },
      "execution_count": null,
      "outputs": []
    },
    {
      "cell_type": "code",
      "source": [
        "user_data.dropna(inplace = False)"
      ],
      "metadata": {
        "id": "tjYIDL9xq7U0"
      },
      "execution_count": null,
      "outputs": []
    },
    {
      "cell_type": "code",
      "source": [
        "user_data[(user_data['Sentiment_Polarity'].isnull())]"
      ],
      "metadata": {
        "id": "hq-YANywrOoT"
      },
      "execution_count": null,
      "outputs": []
    },
    {
      "cell_type": "code",
      "source": [
        "user_data.head(20)"
      ],
      "metadata": {
        "id": "QU0f4sdxrqNz"
      },
      "execution_count": null,
      "outputs": []
    },
    {
      "cell_type": "markdown",
      "source": [
        "# Duplicate Values (no need to find duplicate values here)"
      ],
      "metadata": {
        "id": "dmOfJL6rdfiV"
      }
    },
    {
      "cell_type": "code",
      "source": [
        "# Dataset Duplicate Value Count\n",
        "#df1 = user_data.pivot_table(index = ['Category'], aggfunc ='size')\n",
        "#print(df1)"
      ],
      "metadata": {
        "id": "ny0_PLIBcz1R"
      },
      "execution_count": null,
      "outputs": []
    },
    {
      "cell_type": "markdown",
      "source": [
        "### What all manipulations have you done and insights you found?"
      ],
      "metadata": {
        "id": "MSa1f5Uengrz"
      }
    },
    {
      "cell_type": "markdown",
      "source": [
        "This is for yamini"
      ],
      "metadata": {
        "id": "LbyXE7I1olp8"
      }
    },
    {
      "cell_type": "markdown",
      "source": [
        "## ***4. Data Vizualization, Storytelling & Experimenting with charts : Understand the relationships between variables***"
      ],
      "metadata": {
        "id": "GF8Ens_Soomf"
      }
    },
    {
      "cell_type": "markdown",
      "source": [
        "##  Chart - 1\n",
        "\n",
        "# Ques:1 How much Apps are Paid and Free?"
      ],
      "metadata": {
        "id": "0wOQAZs5pc--"
      }
    },
    {
      "cell_type": "code",
      "source": [
        "# Chart - 1 visualization code\n",
        "free_paid = play_data['Type'].value_counts().reset_index()\n",
        "plt.figure(figsize=(12,10))\n",
        "colors = ['red','blue']\n",
        "plt.pie(x=free_paid['Type'], labels = free_paid['index'], colors=colors, autopct = '%.2f%%', textprops = {'fontsize':15})\n",
        "plt.title('free vs paid app')\n",
        "plt.legend()"
      ],
      "metadata": {
        "id": "7v_ESjsspbW7"
      },
      "execution_count": null,
      "outputs": []
    },
    {
      "cell_type": "markdown",
      "source": [
        "##### 1. Why did you pick the specific chart?"
      ],
      "metadata": {
        "id": "K5QZ13OEpz2H"
      }
    },
    {
      "cell_type": "markdown",
      "source": [
        "Answer Here."
      ],
      "metadata": {
        "id": "XESiWehPqBRc"
      }
    },
    {
      "cell_type": "markdown",
      "source": [
        "##### 2. What is/are the insight(s) found from the chart?"
      ],
      "metadata": {
        "id": "lQ7QKXXCp7Bj"
      }
    },
    {
      "cell_type": "markdown",
      "source": [
        "Answer Here"
      ],
      "metadata": {
        "id": "C_j1G7yiqdRP"
      }
    },
    {
      "cell_type": "markdown",
      "source": [
        "##### 3. Will the gained insights help creating a positive business impact? \n",
        "Are there any insights that lead to negative growth? Justify with specific reason."
      ],
      "metadata": {
        "id": "448CDAPjqfQr"
      }
    },
    {
      "cell_type": "markdown",
      "source": [
        "Answer Here"
      ],
      "metadata": {
        "id": "3cspy4FjqxJW"
      }
    },
    {
      "cell_type": "markdown",
      "source": [
        "#### Chart - 2\n",
        "\n",
        "# Ques:2 Which categories have most Paid Vs Free?"
      ],
      "metadata": {
        "id": "KSlN3yHqYklG"
      }
    },
    {
      "cell_type": "code",
      "source": [
        "# Chart - 2 visualization code\n",
        "category_count = play_data.groupby(['Category','Type']).count()['App'].unstack()\n",
        "category_count.plot(kind ='bar',stacked=True)\n",
        "plt.title(\"Distribution of Free Vs. Paid App by Category\")\n",
        "plt.xlabel(\"Category\")\n",
        "plt.ylabel(\"Number Of Apps\")\n",
        "plt.show()"
      ],
      "metadata": {
        "id": "R4YgtaqtYklH"
      },
      "execution_count": null,
      "outputs": []
    },
    {
      "cell_type": "markdown",
      "source": [
        "##### 1. Why did you pick the specific chart?"
      ],
      "metadata": {
        "id": "t6dVpIINYklI"
      }
    },
    {
      "cell_type": "markdown",
      "source": [
        "Answer Here."
      ],
      "metadata": {
        "id": "5aaW0BYyYklI"
      }
    },
    {
      "cell_type": "markdown",
      "source": [
        "##### 2. What is/are the insight(s) found from the chart?"
      ],
      "metadata": {
        "id": "ijmpgYnKYklI"
      }
    },
    {
      "cell_type": "markdown",
      "source": [
        "Answer Here"
      ],
      "metadata": {
        "id": "PSx9atu2YklI"
      }
    },
    {
      "cell_type": "markdown",
      "source": [
        "##### 3. Will the gained insights help creating a positive business impact? \n",
        "Are there any insights that lead to negative growth? Justify with specific reason."
      ],
      "metadata": {
        "id": "-JiQyfWJYklI"
      }
    },
    {
      "cell_type": "markdown",
      "source": [
        "Answer Here"
      ],
      "metadata": {
        "id": "BcBbebzrYklV"
      }
    },
    {
      "cell_type": "markdown",
      "source": [
        "#### Chart - 3\n",
        "\n",
        "# Ques 3 which Category of App related to 'Content Rating' is more?"
      ],
      "metadata": {
        "id": "EM7whBJCYoAo"
      }
    },
    {
      "cell_type": "code",
      "source": [
        "# Chart - 3 visualization code\n",
        "category_count = play_data.groupby(['Category','Content Rating']).count()['App'].unstack()\n",
        "category_count.plot(kind ='bar',stacked=True)\n",
        "plt.title(\"Distribution of Category of App related to 'Content Rating' is more\")\n",
        "plt.xlabel(\"Category\")\n",
        "plt.ylabel(\"Content Rating\")\n",
        "plt.show()\n"
      ],
      "metadata": {
        "id": "t6GMdE67YoAp"
      },
      "execution_count": null,
      "outputs": []
    },
    {
      "cell_type": "markdown",
      "source": [
        "##### 1. Why did you pick the specific chart?"
      ],
      "metadata": {
        "id": "fge-S5ZAYoAp"
      }
    },
    {
      "cell_type": "markdown",
      "source": [
        "Answer Here."
      ],
      "metadata": {
        "id": "5dBItgRVYoAp"
      }
    },
    {
      "cell_type": "markdown",
      "source": [
        "##### 2. What is/are the insight(s) found from the chart?"
      ],
      "metadata": {
        "id": "85gYPyotYoAp"
      }
    },
    {
      "cell_type": "markdown",
      "source": [
        "Answer Here"
      ],
      "metadata": {
        "id": "4jstXR6OYoAp"
      }
    },
    {
      "cell_type": "markdown",
      "source": [
        "##### 3. Will the gained insights help creating a positive business impact? \n",
        "Are there any insights that lead to negative growth? Justify with specific reason."
      ],
      "metadata": {
        "id": "RoGjAbkUYoAp"
      }
    },
    {
      "cell_type": "markdown",
      "source": [
        "Answer Here"
      ],
      "metadata": {
        "id": "zfJ8IqMcYoAp"
      }
    },
    {
      "cell_type": "markdown",
      "source": [
        "#### Chart - 4\n",
        "\n",
        "#  Which Category getting higest Rating?"
      ],
      "metadata": {
        "id": "4Of9eVA-YrdM"
      }
    },
    {
      "cell_type": "code",
      "source": [
        "# Chart - 4 visualization code\n",
        "play_data.groupby('Category')['Rating'].mean().sort_values(ascending= False)\n",
        "x = play_data['Category']\n",
        "y = play_data['Rating']\n",
        "plt.bar(x,y)\n",
        "plt.xticks(rotation = 45 , ha = 'right', fontsize=10)\n",
        "plt.show()"
      ],
      "metadata": {
        "id": "irlUoxc8YrdO"
      },
      "execution_count": null,
      "outputs": []
    },
    {
      "cell_type": "markdown",
      "source": [
        "##### 1. Why did you pick the specific chart?"
      ],
      "metadata": {
        "id": "iky9q4vBYrdO"
      }
    },
    {
      "cell_type": "markdown",
      "source": [
        "Answer Here."
      ],
      "metadata": {
        "id": "aJRCwT6DYrdO"
      }
    },
    {
      "cell_type": "markdown",
      "source": [
        "##### 2. What is/are the insight(s) found from the chart?"
      ],
      "metadata": {
        "id": "F6T5p64dYrdO"
      }
    },
    {
      "cell_type": "markdown",
      "source": [
        "Answer Here"
      ],
      "metadata": {
        "id": "Xx8WAJvtYrdO"
      }
    },
    {
      "cell_type": "markdown",
      "source": [
        "##### 3. Will the gained insights help creating a positive business impact? \n",
        "Are there any insights that lead to negative growth? Justify with specific reason."
      ],
      "metadata": {
        "id": "y-Ehk30pYrdP"
      }
    },
    {
      "cell_type": "markdown",
      "source": [
        "Answer Here"
      ],
      "metadata": {
        "id": "jLNxxz7MYrdP"
      }
    },
    {
      "cell_type": "markdown",
      "source": [
        "#### Chart - 5\n",
        "\n",
        "#Ques 5: Which App Category is most Installed"
      ],
      "metadata": {
        "id": "bamQiAODYuh1"
      }
    },
    {
      "cell_type": "code",
      "source": [
        "# Instalation related to App Categories\n",
        "play_data['Genres']"
      ],
      "metadata": {
        "id": "OU-lK1PrFWKD"
      },
      "execution_count": null,
      "outputs": []
    },
    {
      "cell_type": "code",
      "source": [
        "# Count the frequency of each genre\n",
        "genre_counts = play_data['Genres'].value_counts()\n",
        "\n",
        "# Create the bar graph\n",
        "plt.figure(figsize=(15,20))\n",
        "genre_counts.plot(kind='bar')\n",
        "plt.xticks(rotation=90, ha='right', fontsize=8)\n",
        "plt.xlabel('Genre')\n",
        "plt.ylabel('Frequency')\n",
        "plt.title('Genre Distribution')\n",
        "\n",
        "plt.show()"
      ],
      "metadata": {
        "id": "1qIkkITIm2cS"
      },
      "execution_count": null,
      "outputs": []
    },
    {
      "cell_type": "markdown",
      "source": [
        "##### 1. Why did you pick the specific chart?"
      ],
      "metadata": {
        "id": "QHF8YVU7Yuh3"
      }
    },
    {
      "cell_type": "markdown",
      "source": [
        "Answer Here."
      ],
      "metadata": {
        "id": "dcxuIMRPYuh3"
      }
    },
    {
      "cell_type": "markdown",
      "source": [
        "##### 2. What is/are the insight(s) found from the chart?"
      ],
      "metadata": {
        "id": "GwzvFGzlYuh3"
      }
    },
    {
      "cell_type": "markdown",
      "source": [
        "Answer Here"
      ],
      "metadata": {
        "id": "uyqkiB8YYuh3"
      }
    },
    {
      "cell_type": "markdown",
      "source": [
        "##### 3. Will the gained insights help creating a positive business impact? \n",
        "Are there any insights that lead to negative growth? Justify with specific reason."
      ],
      "metadata": {
        "id": "qYpmQ266Yuh3"
      }
    },
    {
      "cell_type": "markdown",
      "source": [
        "Answer Here"
      ],
      "metadata": {
        "id": "_WtzZ_hCYuh4"
      }
    },
    {
      "cell_type": "markdown",
      "source": [
        "#### Chart - 6\n",
        "\n",
        "# What is the distribution of App Rating ?"
      ],
      "metadata": {
        "id": "OH-pJp9IphqM"
      }
    },
    {
      "cell_type": "code",
      "source": [
        "# Chart - 6 visualization code\n",
        "merge_data = pd.merge(play_data,user_data, on ='App')\n",
        "plt.hist(merge_data['Rating'])\n",
        "plt.xlabel('App Rating')\n",
        "plt.ylabel('Frequency')\n",
        "plt.title('Distribution of App Rating')\n",
        "plt.show()"
      ],
      "metadata": {
        "id": "kuRf4wtuphqN"
      },
      "execution_count": null,
      "outputs": []
    },
    {
      "cell_type": "markdown",
      "source": [
        "##### 1. Why did you pick the specific chart?"
      ],
      "metadata": {
        "id": "bbFf2-_FphqN"
      }
    },
    {
      "cell_type": "markdown",
      "source": [
        "Answer Here."
      ],
      "metadata": {
        "id": "loh7H2nzphqN"
      }
    },
    {
      "cell_type": "markdown",
      "source": [
        "##### 2. What is/are the insight(s) found from the chart?"
      ],
      "metadata": {
        "id": "_ouA3fa0phqN"
      }
    },
    {
      "cell_type": "markdown",
      "source": [
        "Answer Here"
      ],
      "metadata": {
        "id": "VECbqPI7phqN"
      }
    },
    {
      "cell_type": "markdown",
      "source": [
        "##### 3. Will the gained insights help creating a positive business impact? \n",
        "Are there any insights that lead to negative growth? Justify with specific reason."
      ],
      "metadata": {
        "id": "Seke61FWphqN"
      }
    },
    {
      "cell_type": "markdown",
      "source": [
        "Answer Here"
      ],
      "metadata": {
        "id": "DW4_bGpfphqN"
      }
    },
    {
      "cell_type": "markdown",
      "source": [
        "#### Chart - 7\n",
        "\n",
        "# Which Categories have The most Reviews?"
      ],
      "metadata": {
        "id": "PIIx-8_IphqN"
      }
    },
    {
      "cell_type": "code",
      "source": [
        "# Chart - 7 visualization code\n",
        "review_category = merge_data.groupby('Category')['Translated_Review'].count().sort_values(ascending = False)\n",
        "plt.figure(figsize=(10,6))\n",
        "sns.barplot(x=review_category, y=review_category.index, palette ='Blues_r')\n",
        "plt.xlabel('N0 of Reviews')\n",
        "plt.ylabel('Category')\n",
        "plt.title(\"Number of Reviews by Category\")\n",
        "plt.show()"
      ],
      "metadata": {
        "id": "lqAIGUfyphqO"
      },
      "execution_count": null,
      "outputs": []
    },
    {
      "cell_type": "markdown",
      "source": [
        "##### 1. Why did you pick the specific chart?"
      ],
      "metadata": {
        "id": "t27r6nlMphqO"
      }
    },
    {
      "cell_type": "markdown",
      "source": [
        "Answer Here."
      ],
      "metadata": {
        "id": "iv6ro40sphqO"
      }
    },
    {
      "cell_type": "markdown",
      "source": [
        "##### 2. What is/are the insight(s) found from the chart?"
      ],
      "metadata": {
        "id": "r2jJGEOYphqO"
      }
    },
    {
      "cell_type": "markdown",
      "source": [
        "Answer Here"
      ],
      "metadata": {
        "id": "Po6ZPi4hphqO"
      }
    },
    {
      "cell_type": "markdown",
      "source": [
        "##### 3. Will the gained insights help creating a positive business impact? \n",
        "Are there any insights that lead to negative growth? Justify with specific reason."
      ],
      "metadata": {
        "id": "b0JNsNcRphqO"
      }
    },
    {
      "cell_type": "markdown",
      "source": [
        "Answer Here"
      ],
      "metadata": {
        "id": "xvSq8iUTphqO"
      }
    },
    {
      "cell_type": "markdown",
      "source": [
        "#### Chart - 8\n",
        "\n",
        "# Ques 8: What is the Average_app size in different Categories ?"
      ],
      "metadata": {
        "id": "BZR9WyysphqO"
      }
    },
    {
      "cell_type": "code",
      "source": [
        "# Chart - 8 visualization code\n",
        "play_data['Size'] = play_data['Size'].str.replace('[^\\d.]', '', regex=True)\n",
        "\n",
        "# Convert 'Size' column to numeric data type\n",
        "play_data['Size'] = pd.to_numeric(play_data['Size'], errors='coerce')\n",
        "\n",
        "# Calculate the average size by category\n",
        "size = play_data.groupby('Category')['Size'].mean() / 1000000\n",
        "\n",
        "# Plot the bar chart\n",
        "plt.figure(figsize=(12, 8))\n",
        "size.plot(kind='bar')\n",
        "plt.xticks(rotation=90)\n",
        "plt.xlabel(\"Category\")\n",
        "plt.ylabel(\"Average App size (MB)\")\n",
        "plt.show()"
      ],
      "metadata": {
        "id": "TdPTWpAVphqO"
      },
      "execution_count": null,
      "outputs": []
    },
    {
      "cell_type": "markdown",
      "source": [
        "##### 1. Why did you pick the specific chart?"
      ],
      "metadata": {
        "id": "jj7wYXLtphqO"
      }
    },
    {
      "cell_type": "markdown",
      "source": [
        "Answer Here."
      ],
      "metadata": {
        "id": "Ob8u6rCTphqO"
      }
    },
    {
      "cell_type": "markdown",
      "source": [
        "##### 2. What is/are the insight(s) found from the chart?"
      ],
      "metadata": {
        "id": "eZrbJ2SmphqO"
      }
    },
    {
      "cell_type": "markdown",
      "source": [
        "Answer Here"
      ],
      "metadata": {
        "id": "mZtgC_hjphqO"
      }
    },
    {
      "cell_type": "markdown",
      "source": [
        "##### 3. Will the gained insights help creating a positive business impact? \n",
        "Are there any insights that lead to negative growth? Justify with specific reason."
      ],
      "metadata": {
        "id": "rFu4xreNphqO"
      }
    },
    {
      "cell_type": "markdown",
      "source": [
        "Answer Here"
      ],
      "metadata": {
        "id": "ey_0qi68phqO"
      }
    },
    {
      "cell_type": "markdown",
      "source": [
        "#### Chart - 9\n",
        "\n",
        "# Average rating free vs paid"
      ],
      "metadata": {
        "id": "YJ55k-q6phqO"
      }
    },
    {
      "cell_type": "code",
      "source": [
        "# Chart - 9 visualization code\n",
        "merge_data = pd.merge(play_data,user_data, on='App')\n",
        "average_data=merge_data[merge_data['Type'].isin(['Free','Paid'])]\n",
        "sns.violinplot(x='Type', y='Rating', data=average_data, palette=['#66b3ff','#ffcc99'])\n",
        "plt.title(\"sfdfd\")\n",
        "plt.show()"
      ],
      "metadata": {
        "id": "B2aS4O1ophqO"
      },
      "execution_count": null,
      "outputs": []
    },
    {
      "cell_type": "markdown",
      "source": [
        "##### 1. Why did you pick the specific chart?"
      ],
      "metadata": {
        "id": "gCFgpxoyphqP"
      }
    },
    {
      "cell_type": "markdown",
      "source": [
        "Answer Here."
      ],
      "metadata": {
        "id": "TVxDimi2phqP"
      }
    },
    {
      "cell_type": "markdown",
      "source": [
        "##### 2. What is/are the insight(s) found from the chart?"
      ],
      "metadata": {
        "id": "OVtJsKN_phqQ"
      }
    },
    {
      "cell_type": "markdown",
      "source": [
        "Answer Here"
      ],
      "metadata": {
        "id": "ngGi97qjphqQ"
      }
    },
    {
      "cell_type": "markdown",
      "source": [
        "##### 3. Will the gained insights help creating a positive business impact? \n",
        "Are there any insights that lead to negative growth? Justify with specific reason."
      ],
      "metadata": {
        "id": "lssrdh5qphqQ"
      }
    },
    {
      "cell_type": "markdown",
      "source": [
        "Answer Here"
      ],
      "metadata": {
        "id": "tBpY5ekJphqQ"
      }
    },
    {
      "cell_type": "markdown",
      "source": [
        "#### Chart - 10\n",
        "\n",
        "# category generate most revenue(Price) ?"
      ],
      "metadata": {
        "id": "U2RJ9gkRphqQ"
      }
    },
    {
      "cell_type": "code",
      "source": [
        "# Chart - 10 visualization code\n",
        "content_ra = play_data['Content Rating'].value_counts().reset_index()\n",
        "plt.figure(figsize=(12,10))\n",
        "colors = ['green','yellow','orange','pink','gold','red']\n",
        "explode = (0,0.1,0.1,0.1,0.0,1.3)\n",
        "plt.pie(x=content_ra['Content Rating'], labels = content_ra['index'], explode=explode, colors=colors, autopct = '%.2f%%', textprops = {'fontsize':15})\n",
        "plt.title('free vs paid app', size=20, loc='center')\n",
        "plt.legend()"
      ],
      "metadata": {
        "id": "GM7a4YP4phqQ"
      },
      "execution_count": null,
      "outputs": []
    },
    {
      "cell_type": "markdown",
      "source": [
        "##### 1. Why did you pick the specific chart?"
      ],
      "metadata": {
        "id": "1M8mcRywphqQ"
      }
    },
    {
      "cell_type": "markdown",
      "source": [
        "Answer Here."
      ],
      "metadata": {
        "id": "8agQvks0phqQ"
      }
    },
    {
      "cell_type": "markdown",
      "source": [
        "##### 2. What is/are the insight(s) found from the chart?"
      ],
      "metadata": {
        "id": "tgIPom80phqQ"
      }
    },
    {
      "cell_type": "markdown",
      "source": [
        "Answer Here"
      ],
      "metadata": {
        "id": "Qp13pnNzphqQ"
      }
    },
    {
      "cell_type": "markdown",
      "source": [
        "##### 3. Will the gained insights help creating a positive business impact? \n",
        "Are there any insights that lead to negative growth? Justify with specific reason."
      ],
      "metadata": {
        "id": "JMzcOPDDphqR"
      }
    },
    {
      "cell_type": "markdown",
      "source": [
        "Answer Here"
      ],
      "metadata": {
        "id": "R4Ka1PC2phqR"
      }
    },
    {
      "cell_type": "markdown",
      "source": [
        "#### Chart - 11\n",
        "\n",
        "# Which Category have the most Sentiment "
      ],
      "metadata": {
        "id": "x-EpHcCOp1ci"
      }
    },
    {
      "cell_type": "code",
      "source": [
        "# Chart - 11 visualization code\n",
        "data = user_data['Sentiment'].value_counts().reset_index()\n",
        "plt.figure(figsize=(12,10))\n",
        "colors = ['green','yellow','pink']\n",
        "explode = (0,0.1,0.3)\n",
        "plt.pie(x=data['Sentiment'], labels = data['index'], explode=explode, colors=colors, autopct = '%.2f%%', textprops = {'fontsize':15})\n",
        "plt.title('free vs paid app')\n",
        "plt.legend()"
      ],
      "metadata": {
        "id": "mAQTIvtqp1cj"
      },
      "execution_count": null,
      "outputs": []
    },
    {
      "cell_type": "markdown",
      "source": [
        "##### 1. Why did you pick the specific chart?"
      ],
      "metadata": {
        "id": "X_VqEhTip1ck"
      }
    },
    {
      "cell_type": "markdown",
      "source": [
        "Answer Here."
      ],
      "metadata": {
        "id": "-vsMzt_np1ck"
      }
    },
    {
      "cell_type": "markdown",
      "source": [
        "##### 2. What is/are the insight(s) found from the chart?"
      ],
      "metadata": {
        "id": "8zGJKyg5p1ck"
      }
    },
    {
      "cell_type": "markdown",
      "source": [
        "Answer Here"
      ],
      "metadata": {
        "id": "ZYdMsrqVp1ck"
      }
    },
    {
      "cell_type": "markdown",
      "source": [
        "##### 3. Will the gained insights help creating a positive business impact? \n",
        "Are there any insights that lead to negative growth? Justify with specific reason."
      ],
      "metadata": {
        "id": "PVzmfK_Ep1ck"
      }
    },
    {
      "cell_type": "markdown",
      "source": [
        "Answer Here"
      ],
      "metadata": {
        "id": "druuKYZpp1ck"
      }
    },
    {
      "cell_type": "markdown",
      "source": [
        "#### Chart - 12\n",
        "\n",
        "# Ques 12 : What is Distribution of Apps Category by Sentiment[Negative,Positive,Neutral]"
      ],
      "metadata": {
        "id": "n3dbpmDWp1ck"
      }
    },
    {
      "cell_type": "code",
      "source": [
        "# Chart - 12 visualization code\n",
        "merge_data = pd.merge(play_data, user_data, on='App')\n",
        "category_count = merge_data.groupby(['Category','Sentiment']).count()['App'].unstack()\n",
        "category_count.plot(kind ='bar',stacked=True)\n",
        "plt.title(\"Distribution of Apps Category by Sentiment[Negative,Positive,Neutral]\")\n",
        "plt.xlabel(\"Category\")\n",
        "plt.ylabel(\"Sentiment\")\n",
        "plt.show()"
      ],
      "metadata": {
        "id": "bwevp1tKp1ck"
      },
      "execution_count": null,
      "outputs": []
    },
    {
      "cell_type": "markdown",
      "source": [
        "##### 1. Why did you pick the specific chart?"
      ],
      "metadata": {
        "id": "ylSl6qgtp1ck"
      }
    },
    {
      "cell_type": "markdown",
      "source": [
        "Answer Here."
      ],
      "metadata": {
        "id": "m2xqNkiQp1ck"
      }
    },
    {
      "cell_type": "markdown",
      "source": [
        "##### 2. What is/are the insight(s) found from the chart?"
      ],
      "metadata": {
        "id": "ZWILFDl5p1ck"
      }
    },
    {
      "cell_type": "markdown",
      "source": [
        "Answer Here"
      ],
      "metadata": {
        "id": "x-lUsV2mp1ck"
      }
    },
    {
      "cell_type": "markdown",
      "source": [
        "##### 3. Will the gained insights help creating a positive business impact? \n",
        "Are there any insights that lead to negative growth? Justify with specific reason."
      ],
      "metadata": {
        "id": "M7G43BXep1ck"
      }
    },
    {
      "cell_type": "markdown",
      "source": [
        "Answer Here"
      ],
      "metadata": {
        "id": "5wwDJXsLp1cl"
      }
    },
    {
      "cell_type": "markdown",
      "source": [
        "# Chart - 14 - Correlation Heatmap"
      ],
      "metadata": {
        "id": "weNro9FQ8Ni3"
      }
    },
    {
      "cell_type": "code",
      "source": [
        "# Correlation Heatmap visualization code\n",
        "import seaborn as sns\n",
        "import matplotlib.pyplot as plt\n",
        "\n",
        "# Compute the correlation matrix\n",
        "correlation_matrix = play_data.corr()\n",
        "\n",
        "# Create a heatmap using Seaborn\n",
        "plt.figure(figsize=(10, 8))\n",
        "sns.heatmap(correlation_matrix, annot=True, cmap='coolwarm', fmt=\".2f\")\n",
        "plt.title('Correlation Heatmap')\n",
        "\n",
        "# Display the plot\n",
        "plt.show()\n"
      ],
      "metadata": {
        "id": "xyC9zolEZNRQ"
      },
      "execution_count": null,
      "outputs": []
    },
    {
      "cell_type": "markdown",
      "source": [
        "1. Why did you pick the specific chart?"
      ],
      "metadata": {
        "id": "cI4rWfCe9Tf9"
      }
    },
    {
      "cell_type": "markdown",
      "source": [],
      "metadata": {
        "id": "4y64pwnQ9TOy"
      }
    },
    {
      "cell_type": "markdown",
      "source": [],
      "metadata": {
        "id": "5KaIQNp69TJa"
      }
    },
    {
      "cell_type": "code",
      "source": [],
      "metadata": {
        "id": "EQ5YHifG9SqY"
      },
      "execution_count": null,
      "outputs": []
    },
    {
      "cell_type": "markdown",
      "source": [],
      "metadata": {
        "id": "sYXWOnoM9SUK"
      }
    },
    {
      "cell_type": "code",
      "source": [],
      "metadata": {
        "id": "Dgf6XkVU9SAl"
      },
      "execution_count": null,
      "outputs": []
    },
    {
      "cell_type": "markdown",
      "source": [
        "#### Chart - 15 - Pair Plot "
      ],
      "metadata": {
        "id": "q29F0dvdveiT"
      }
    },
    {
      "cell_type": "code",
      "source": [
        "# Pair Plot visualization code"
      ],
      "metadata": {
        "id": "o58-TEIhveiU"
      },
      "execution_count": null,
      "outputs": []
    },
    {
      "cell_type": "markdown",
      "source": [
        "##### 1. Why did you pick the specific chart?"
      ],
      "metadata": {
        "id": "EXh0U9oCveiU"
      }
    },
    {
      "cell_type": "markdown",
      "source": [
        "Answer Here."
      ],
      "metadata": {
        "id": "eMmPjTByveiU"
      }
    },
    {
      "cell_type": "markdown",
      "source": [
        "##### 2. What is/are the insight(s) found from the chart?"
      ],
      "metadata": {
        "id": "22aHeOlLveiV"
      }
    },
    {
      "cell_type": "markdown",
      "source": [
        "Answer Here"
      ],
      "metadata": {
        "id": "uPQ8RGwHveiV"
      }
    },
    {
      "cell_type": "markdown",
      "source": [
        "## **5. Solution to Business Objective**"
      ],
      "metadata": {
        "id": "JcMwzZxoAimU"
      }
    },
    {
      "cell_type": "markdown",
      "source": [
        "#### What do you suggest the client to achieve Business Objective ? \n",
        "Explain Briefly."
      ],
      "metadata": {
        "id": "8G2x9gOozGDZ"
      }
    },
    {
      "cell_type": "markdown",
      "source": [
        "Answer Here."
      ],
      "metadata": {
        "id": "pASKb0qOza21"
      }
    },
    {
      "cell_type": "markdown",
      "source": [
        "# **Conclusion**"
      ],
      "metadata": {
        "id": "gCX9965dhzqZ"
      }
    },
    {
      "cell_type": "markdown",
      "source": [
        "Write the conclusion here."
      ],
      "metadata": {
        "id": "Fjb1IsQkh3yE"
      }
    },
    {
      "cell_type": "markdown",
      "source": [
        "### ***Hurrah! You have successfully completed your EDA Capstone Project !!!***"
      ],
      "metadata": {
        "id": "gIfDvo9L0UH2"
      }
    }
  ]
}